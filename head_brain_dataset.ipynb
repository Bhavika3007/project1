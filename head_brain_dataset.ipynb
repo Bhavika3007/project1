{
 "cells": [
  {
   "cell_type": "code",
   "execution_count": 1,
   "id": "ce851420",
   "metadata": {},
   "outputs": [],
   "source": [
    "import pandas as pd\n",
    "import numpy as np"
   ]
  },
  {
   "cell_type": "code",
   "execution_count": 3,
   "id": "78619add",
   "metadata": {},
   "outputs": [],
   "source": [
    "data=pd.read_csv(\"headbrain.csv\")"
   ]
  },
  {
   "cell_type": "code",
   "execution_count": 4,
   "id": "bc0f5b95",
   "metadata": {},
   "outputs": [
    {
     "data": {
      "text/html": [
       "<div>\n",
       "<style scoped>\n",
       "    .dataframe tbody tr th:only-of-type {\n",
       "        vertical-align: middle;\n",
       "    }\n",
       "\n",
       "    .dataframe tbody tr th {\n",
       "        vertical-align: top;\n",
       "    }\n",
       "\n",
       "    .dataframe thead th {\n",
       "        text-align: right;\n",
       "    }\n",
       "</style>\n",
       "<table border=\"1\" class=\"dataframe\">\n",
       "  <thead>\n",
       "    <tr style=\"text-align: right;\">\n",
       "      <th></th>\n",
       "      <th>Gender</th>\n",
       "      <th>Age Range</th>\n",
       "      <th>Head Size(cm^3)</th>\n",
       "      <th>Brain Weight(grams)</th>\n",
       "    </tr>\n",
       "  </thead>\n",
       "  <tbody>\n",
       "    <tr>\n",
       "      <th>0</th>\n",
       "      <td>1</td>\n",
       "      <td>1</td>\n",
       "      <td>4512</td>\n",
       "      <td>1530</td>\n",
       "    </tr>\n",
       "    <tr>\n",
       "      <th>1</th>\n",
       "      <td>1</td>\n",
       "      <td>1</td>\n",
       "      <td>3738</td>\n",
       "      <td>1297</td>\n",
       "    </tr>\n",
       "    <tr>\n",
       "      <th>2</th>\n",
       "      <td>1</td>\n",
       "      <td>1</td>\n",
       "      <td>4261</td>\n",
       "      <td>1335</td>\n",
       "    </tr>\n",
       "    <tr>\n",
       "      <th>3</th>\n",
       "      <td>1</td>\n",
       "      <td>1</td>\n",
       "      <td>3777</td>\n",
       "      <td>1282</td>\n",
       "    </tr>\n",
       "    <tr>\n",
       "      <th>4</th>\n",
       "      <td>1</td>\n",
       "      <td>1</td>\n",
       "      <td>4177</td>\n",
       "      <td>1590</td>\n",
       "    </tr>\n",
       "    <tr>\n",
       "      <th>...</th>\n",
       "      <td>...</td>\n",
       "      <td>...</td>\n",
       "      <td>...</td>\n",
       "      <td>...</td>\n",
       "    </tr>\n",
       "    <tr>\n",
       "      <th>232</th>\n",
       "      <td>2</td>\n",
       "      <td>2</td>\n",
       "      <td>3214</td>\n",
       "      <td>1110</td>\n",
       "    </tr>\n",
       "    <tr>\n",
       "      <th>233</th>\n",
       "      <td>2</td>\n",
       "      <td>2</td>\n",
       "      <td>3394</td>\n",
       "      <td>1215</td>\n",
       "    </tr>\n",
       "    <tr>\n",
       "      <th>234</th>\n",
       "      <td>2</td>\n",
       "      <td>2</td>\n",
       "      <td>3233</td>\n",
       "      <td>1104</td>\n",
       "    </tr>\n",
       "    <tr>\n",
       "      <th>235</th>\n",
       "      <td>2</td>\n",
       "      <td>2</td>\n",
       "      <td>3352</td>\n",
       "      <td>1170</td>\n",
       "    </tr>\n",
       "    <tr>\n",
       "      <th>236</th>\n",
       "      <td>2</td>\n",
       "      <td>2</td>\n",
       "      <td>3391</td>\n",
       "      <td>1120</td>\n",
       "    </tr>\n",
       "  </tbody>\n",
       "</table>\n",
       "<p>237 rows × 4 columns</p>\n",
       "</div>"
      ],
      "text/plain": [
       "     Gender  Age Range  Head Size(cm^3)  Brain Weight(grams)\n",
       "0         1          1             4512                 1530\n",
       "1         1          1             3738                 1297\n",
       "2         1          1             4261                 1335\n",
       "3         1          1             3777                 1282\n",
       "4         1          1             4177                 1590\n",
       "..      ...        ...              ...                  ...\n",
       "232       2          2             3214                 1110\n",
       "233       2          2             3394                 1215\n",
       "234       2          2             3233                 1104\n",
       "235       2          2             3352                 1170\n",
       "236       2          2             3391                 1120\n",
       "\n",
       "[237 rows x 4 columns]"
      ]
     },
     "execution_count": 4,
     "metadata": {},
     "output_type": "execute_result"
    }
   ],
   "source": [
    "data"
   ]
  },
  {
   "cell_type": "code",
   "execution_count": 12,
   "id": "16178ea6",
   "metadata": {},
   "outputs": [],
   "source": [
    "x=data['Head Size(cm^3)']\n",
    "y=data['Brain Weight(grams)']"
   ]
  },
  {
   "cell_type": "code",
   "execution_count": 15,
   "id": "bbd5cb87",
   "metadata": {},
   "outputs": [
    {
     "name": "stdout",
     "output_type": "stream",
     "text": [
      "3633.9915611814345\n",
      "1282.873417721519\n"
     ]
    }
   ],
   "source": [
    "x1=np.mean(x)\n",
    "y1=np.mean(y)\n",
    "print(x1)\n",
    "print(y1)"
   ]
  },
  {
   "cell_type": "code",
   "execution_count": 18,
   "id": "9d20bfa5",
   "metadata": {},
   "outputs": [
    {
     "name": "stdout",
     "output_type": "stream",
     "text": [
      "The slope is: 0.26342933948939945\n",
      "The intercept is: 325.57342104944223\n",
      "The equation of line is: y=0.26342933948939945x+325.57342104944223\n"
     ]
    }
   ],
   "source": [
    "m=sum((np.array(x) - x1) * (np.array(y) - y1))/sum((np.array(x) - x1)**2)\n",
    "print(\"The slope is:\",m)\n",
    "c=y1-(m*x1)\n",
    "print(\"The intercept is:\",c)\n",
    "print(f\"The equation of line is: y={m}x+{c}\")"
   ]
  },
  {
   "cell_type": "code",
   "execution_count": 20,
   "id": "de9b2037",
   "metadata": {},
   "outputs": [
    {
     "name": "stdout",
     "output_type": "stream",
     "text": [
      "Error rate is 0.6393117199570001\n",
      "Accuracy is: 0.3606882800429999\n"
     ]
    }
   ],
   "source": [
    "y_p=m*np.array(x)+c\n",
    "#print(y_p)\n",
    "error=sum((y_p-y1)**2)/sum((np.array(y)-y1)**2)\n",
    "print(\"Error rate is\",error)\n",
    "\n",
    "R_squared=1-(sum((y_p-y1)**2)/sum((np.array(y)-y1)**2))\n",
    "print(\"Accuracy is:\",R_squared)"
   ]
  },
  {
   "cell_type": "code",
   "execution_count": null,
   "id": "777ee417",
   "metadata": {},
   "outputs": [],
   "source": []
  }
 ],
 "metadata": {
  "kernelspec": {
   "display_name": "Python 3 (ipykernel)",
   "language": "python",
   "name": "python3"
  },
  "language_info": {
   "codemirror_mode": {
    "name": "ipython",
    "version": 3
   },
   "file_extension": ".py",
   "mimetype": "text/x-python",
   "name": "python",
   "nbconvert_exporter": "python",
   "pygments_lexer": "ipython3",
   "version": "3.11.5"
  }
 },
 "nbformat": 4,
 "nbformat_minor": 5
}
