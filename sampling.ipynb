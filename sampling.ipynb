{
 "cells": [
  {
   "cell_type": "code",
   "execution_count": 12,
   "id": "4a54e98b",
   "metadata": {},
   "outputs": [
    {
     "name": "stdout",
     "output_type": "stream",
     "text": [
      "    age  income class\n",
      "0    22    2000  high\n",
      "1    25    2500   low\n",
      "2    28    2700  high\n",
      "3    30    3200  high\n",
      "4    35    3500   low\n",
      "5    40    3800   low\n",
      "6    45    4000  high\n",
      "7    50    4200   low\n",
      "8    55    4300  high\n",
      "9    60    4500  high\n",
      "10   65    5000   low\n",
      "11   70    5500  high\n"
     ]
    }
   ],
   "source": [
    "import pandas as pd\n",
    "from sklearn.utils import resample\n",
    "df = pd.DataFrame({\n",
    "    'age': [22, 25, 28, 30, 35, 40, 45, 50, 55, 60, 65, 70],\n",
    "    'income': [2000, 2500, 2700, 3200, 3500, 3800, 4000, 4200, 4300, 4500, 5000, 5500],\n",
    "    'class': ['high', 'low', 'high', 'high', 'low', 'low', 'high', 'low', 'high', 'high', 'low', 'high']\n",
    "})\n",
    "print(df)"
   ]
  },
  {
   "cell_type": "code",
   "execution_count": 13,
   "id": "cf96496a",
   "metadata": {},
   "outputs": [
    {
     "name": "stdout",
     "output_type": "stream",
     "text": [
      "    age  income class\n",
      "0    22    2000  high\n",
      "2    28    2700  high\n",
      "3    30    3200  high\n",
      "6    45    4000  high\n",
      "8    55    4300  high\n",
      "9    60    4500  high\n",
      "11   70    5500  high\n",
      "    age  income class\n",
      "1    25    2500   low\n",
      "4    35    3500   low\n",
      "5    40    3800   low\n",
      "7    50    4200   low\n",
      "10   65    5000   low\n"
     ]
    }
   ],
   "source": [
    "df_high=df[df['class']=='high']\n",
    "df_low=df[df['class']=='low']\n",
    "print(df_high)\n",
    "print(df_low)"
   ]
  },
  {
   "cell_type": "code",
   "execution_count": 14,
   "id": "51f11653",
   "metadata": {},
   "outputs": [
    {
     "data": {
      "text/html": [
       "<div>\n",
       "<style scoped>\n",
       "    .dataframe tbody tr th:only-of-type {\n",
       "        vertical-align: middle;\n",
       "    }\n",
       "\n",
       "    .dataframe tbody tr th {\n",
       "        vertical-align: top;\n",
       "    }\n",
       "\n",
       "    .dataframe thead th {\n",
       "        text-align: right;\n",
       "    }\n",
       "</style>\n",
       "<table border=\"1\" class=\"dataframe\">\n",
       "  <thead>\n",
       "    <tr style=\"text-align: right;\">\n",
       "      <th></th>\n",
       "      <th>age</th>\n",
       "      <th>income</th>\n",
       "      <th>class</th>\n",
       "    </tr>\n",
       "  </thead>\n",
       "  <tbody>\n",
       "    <tr>\n",
       "      <th>0</th>\n",
       "      <td>22</td>\n",
       "      <td>2000</td>\n",
       "      <td>high</td>\n",
       "    </tr>\n",
       "    <tr>\n",
       "      <th>2</th>\n",
       "      <td>28</td>\n",
       "      <td>2700</td>\n",
       "      <td>high</td>\n",
       "    </tr>\n",
       "    <tr>\n",
       "      <th>9</th>\n",
       "      <td>60</td>\n",
       "      <td>4500</td>\n",
       "      <td>high</td>\n",
       "    </tr>\n",
       "    <tr>\n",
       "      <th>3</th>\n",
       "      <td>30</td>\n",
       "      <td>3200</td>\n",
       "      <td>high</td>\n",
       "    </tr>\n",
       "    <tr>\n",
       "      <th>8</th>\n",
       "      <td>55</td>\n",
       "      <td>4300</td>\n",
       "      <td>high</td>\n",
       "    </tr>\n",
       "  </tbody>\n",
       "</table>\n",
       "</div>"
      ],
      "text/plain": [
       "   age  income class\n",
       "0   22    2000  high\n",
       "2   28    2700  high\n",
       "9   60    4500  high\n",
       "3   30    3200  high\n",
       "8   55    4300  high"
      ]
     },
     "execution_count": 14,
     "metadata": {},
     "output_type": "execute_result"
    }
   ],
   "source": [
    "df_high_downsample=resample(df_high,replace=False,n_samples=len(df_low),random_state=42)\n",
    "df_high_downsample"
   ]
  },
  {
   "cell_type": "code",
   "execution_count": 15,
   "id": "7df32124",
   "metadata": {},
   "outputs": [
    {
     "data": {
      "text/html": [
       "<div>\n",
       "<style scoped>\n",
       "    .dataframe tbody tr th:only-of-type {\n",
       "        vertical-align: middle;\n",
       "    }\n",
       "\n",
       "    .dataframe tbody tr th {\n",
       "        vertical-align: top;\n",
       "    }\n",
       "\n",
       "    .dataframe thead th {\n",
       "        text-align: right;\n",
       "    }\n",
       "</style>\n",
       "<table border=\"1\" class=\"dataframe\">\n",
       "  <thead>\n",
       "    <tr style=\"text-align: right;\">\n",
       "      <th></th>\n",
       "      <th>age</th>\n",
       "      <th>income</th>\n",
       "      <th>class</th>\n",
       "    </tr>\n",
       "  </thead>\n",
       "  <tbody>\n",
       "    <tr>\n",
       "      <th>0</th>\n",
       "      <td>22</td>\n",
       "      <td>2000</td>\n",
       "      <td>high</td>\n",
       "    </tr>\n",
       "    <tr>\n",
       "      <th>2</th>\n",
       "      <td>28</td>\n",
       "      <td>2700</td>\n",
       "      <td>high</td>\n",
       "    </tr>\n",
       "    <tr>\n",
       "      <th>9</th>\n",
       "      <td>60</td>\n",
       "      <td>4500</td>\n",
       "      <td>high</td>\n",
       "    </tr>\n",
       "    <tr>\n",
       "      <th>3</th>\n",
       "      <td>30</td>\n",
       "      <td>3200</td>\n",
       "      <td>high</td>\n",
       "    </tr>\n",
       "    <tr>\n",
       "      <th>8</th>\n",
       "      <td>55</td>\n",
       "      <td>4300</td>\n",
       "      <td>high</td>\n",
       "    </tr>\n",
       "    <tr>\n",
       "      <th>1</th>\n",
       "      <td>25</td>\n",
       "      <td>2500</td>\n",
       "      <td>low</td>\n",
       "    </tr>\n",
       "    <tr>\n",
       "      <th>4</th>\n",
       "      <td>35</td>\n",
       "      <td>3500</td>\n",
       "      <td>low</td>\n",
       "    </tr>\n",
       "    <tr>\n",
       "      <th>5</th>\n",
       "      <td>40</td>\n",
       "      <td>3800</td>\n",
       "      <td>low</td>\n",
       "    </tr>\n",
       "    <tr>\n",
       "      <th>7</th>\n",
       "      <td>50</td>\n",
       "      <td>4200</td>\n",
       "      <td>low</td>\n",
       "    </tr>\n",
       "    <tr>\n",
       "      <th>10</th>\n",
       "      <td>65</td>\n",
       "      <td>5000</td>\n",
       "      <td>low</td>\n",
       "    </tr>\n",
       "  </tbody>\n",
       "</table>\n",
       "</div>"
      ],
      "text/plain": [
       "    age  income class\n",
       "0    22    2000  high\n",
       "2    28    2700  high\n",
       "9    60    4500  high\n",
       "3    30    3200  high\n",
       "8    55    4300  high\n",
       "1    25    2500   low\n",
       "4    35    3500   low\n",
       "5    40    3800   low\n",
       "7    50    4200   low\n",
       "10   65    5000   low"
      ]
     },
     "execution_count": 15,
     "metadata": {},
     "output_type": "execute_result"
    }
   ],
   "source": [
    "df_balanced=pd.concat([df_high_downsample,df_low])\n",
    "df_balanced"
   ]
  },
  {
   "cell_type": "code",
   "execution_count": 16,
   "id": "cefa1c7c",
   "metadata": {},
   "outputs": [
    {
     "name": "stdout",
     "output_type": "stream",
     "text": [
      "class\n",
      "high    5\n",
      "low     5\n",
      "Name: count, dtype: int64\n"
     ]
    }
   ],
   "source": [
    "print(df_balanced['class'].value_counts())"
   ]
  },
  {
   "cell_type": "markdown",
   "id": "55a17bf1",
   "metadata": {},
   "source": [
    "**Upsampling the minority class**"
   ]
  },
  {
   "cell_type": "code",
   "execution_count": 17,
   "id": "e7fc1623",
   "metadata": {},
   "outputs": [
    {
     "name": "stdout",
     "output_type": "stream",
     "text": [
      "    age  income     class\n",
      "0    22    2000  minority\n",
      "1    25    2500  majority\n",
      "2    28    2700  majority\n",
      "3    30    3200  majority\n",
      "4    35    3500  majority\n",
      "5    40    3800  minority\n",
      "6    45    4000  minority\n",
      "7    50    4200  majority\n",
      "8    55    4300  majority\n",
      "9    60    4500  minority\n",
      "10   65    5000  minority\n",
      "11   70    5500  majority\n"
     ]
    }
   ],
   "source": [
    "import pandas as pd\n",
    "from sklearn.utils import resample\n",
    "df = pd.DataFrame({\n",
    "    'age': [22, 25, 28, 30, 35, 40, 45, 50, 55, 60, 65, 70],\n",
    "    'income': [2000, 2500, 2700, 3200, 3500, 3800, 4000, 4200, 4300, 4500, 5000, 5500],\n",
    "    'class': ['minority', 'majority', 'majority', 'majority', 'majority', 'minority', 'minority', 'majority', 'majority', 'minority', 'minority', 'majority']\n",
    "})\n",
    "print(df)"
   ]
  },
  {
   "cell_type": "code",
   "execution_count": 18,
   "id": "f7b69108",
   "metadata": {},
   "outputs": [
    {
     "name": "stdout",
     "output_type": "stream",
     "text": [
      "    age  income     class\n",
      "1    25    2500  majority\n",
      "2    28    2700  majority\n",
      "3    30    3200  majority\n",
      "4    35    3500  majority\n",
      "7    50    4200  majority\n",
      "8    55    4300  majority\n",
      "11   70    5500  majority\n",
      "    age  income     class\n",
      "0    22    2000  minority\n",
      "5    40    3800  minority\n",
      "6    45    4000  minority\n",
      "9    60    4500  minority\n",
      "10   65    5000  minority\n"
     ]
    }
   ],
   "source": [
    "df_majority=df[df['class']=='majority']\n",
    "df_minority=df[df['class']=='minority']\n",
    "print(df_majority)\n",
    "print(df_minority)"
   ]
  },
  {
   "cell_type": "code",
   "execution_count": 19,
   "id": "9db75074",
   "metadata": {},
   "outputs": [
    {
     "data": {
      "text/html": [
       "<div>\n",
       "<style scoped>\n",
       "    .dataframe tbody tr th:only-of-type {\n",
       "        vertical-align: middle;\n",
       "    }\n",
       "\n",
       "    .dataframe tbody tr th {\n",
       "        vertical-align: top;\n",
       "    }\n",
       "\n",
       "    .dataframe thead th {\n",
       "        text-align: right;\n",
       "    }\n",
       "</style>\n",
       "<table border=\"1\" class=\"dataframe\">\n",
       "  <thead>\n",
       "    <tr style=\"text-align: right;\">\n",
       "      <th></th>\n",
       "      <th>age</th>\n",
       "      <th>income</th>\n",
       "      <th>class</th>\n",
       "    </tr>\n",
       "  </thead>\n",
       "  <tbody>\n",
       "    <tr>\n",
       "      <th>9</th>\n",
       "      <td>60</td>\n",
       "      <td>4500</td>\n",
       "      <td>minority</td>\n",
       "    </tr>\n",
       "    <tr>\n",
       "      <th>10</th>\n",
       "      <td>65</td>\n",
       "      <td>5000</td>\n",
       "      <td>minority</td>\n",
       "    </tr>\n",
       "    <tr>\n",
       "      <th>6</th>\n",
       "      <td>45</td>\n",
       "      <td>4000</td>\n",
       "      <td>minority</td>\n",
       "    </tr>\n",
       "    <tr>\n",
       "      <th>10</th>\n",
       "      <td>65</td>\n",
       "      <td>5000</td>\n",
       "      <td>minority</td>\n",
       "    </tr>\n",
       "    <tr>\n",
       "      <th>10</th>\n",
       "      <td>65</td>\n",
       "      <td>5000</td>\n",
       "      <td>minority</td>\n",
       "    </tr>\n",
       "    <tr>\n",
       "      <th>5</th>\n",
       "      <td>40</td>\n",
       "      <td>3800</td>\n",
       "      <td>minority</td>\n",
       "    </tr>\n",
       "    <tr>\n",
       "      <th>6</th>\n",
       "      <td>45</td>\n",
       "      <td>4000</td>\n",
       "      <td>minority</td>\n",
       "    </tr>\n",
       "  </tbody>\n",
       "</table>\n",
       "</div>"
      ],
      "text/plain": [
       "    age  income     class\n",
       "9    60    4500  minority\n",
       "10   65    5000  minority\n",
       "6    45    4000  minority\n",
       "10   65    5000  minority\n",
       "10   65    5000  minority\n",
       "5    40    3800  minority\n",
       "6    45    4000  minority"
      ]
     },
     "execution_count": 19,
     "metadata": {},
     "output_type": "execute_result"
    }
   ],
   "source": [
    "df_minority_upsampled = resample(df_minority,replace=True,n_samples=len(df_majority),random_state=42)\n",
    "df_minority_upsampled"
   ]
  },
  {
   "cell_type": "code",
   "execution_count": 20,
   "id": "8164b3e9",
   "metadata": {},
   "outputs": [
    {
     "data": {
      "text/html": [
       "<div>\n",
       "<style scoped>\n",
       "    .dataframe tbody tr th:only-of-type {\n",
       "        vertical-align: middle;\n",
       "    }\n",
       "\n",
       "    .dataframe tbody tr th {\n",
       "        vertical-align: top;\n",
       "    }\n",
       "\n",
       "    .dataframe thead th {\n",
       "        text-align: right;\n",
       "    }\n",
       "</style>\n",
       "<table border=\"1\" class=\"dataframe\">\n",
       "  <thead>\n",
       "    <tr style=\"text-align: right;\">\n",
       "      <th></th>\n",
       "      <th>age</th>\n",
       "      <th>income</th>\n",
       "      <th>class</th>\n",
       "    </tr>\n",
       "  </thead>\n",
       "  <tbody>\n",
       "    <tr>\n",
       "      <th>1</th>\n",
       "      <td>25</td>\n",
       "      <td>2500</td>\n",
       "      <td>majority</td>\n",
       "    </tr>\n",
       "    <tr>\n",
       "      <th>2</th>\n",
       "      <td>28</td>\n",
       "      <td>2700</td>\n",
       "      <td>majority</td>\n",
       "    </tr>\n",
       "    <tr>\n",
       "      <th>3</th>\n",
       "      <td>30</td>\n",
       "      <td>3200</td>\n",
       "      <td>majority</td>\n",
       "    </tr>\n",
       "    <tr>\n",
       "      <th>4</th>\n",
       "      <td>35</td>\n",
       "      <td>3500</td>\n",
       "      <td>majority</td>\n",
       "    </tr>\n",
       "    <tr>\n",
       "      <th>7</th>\n",
       "      <td>50</td>\n",
       "      <td>4200</td>\n",
       "      <td>majority</td>\n",
       "    </tr>\n",
       "    <tr>\n",
       "      <th>8</th>\n",
       "      <td>55</td>\n",
       "      <td>4300</td>\n",
       "      <td>majority</td>\n",
       "    </tr>\n",
       "    <tr>\n",
       "      <th>11</th>\n",
       "      <td>70</td>\n",
       "      <td>5500</td>\n",
       "      <td>majority</td>\n",
       "    </tr>\n",
       "    <tr>\n",
       "      <th>9</th>\n",
       "      <td>60</td>\n",
       "      <td>4500</td>\n",
       "      <td>minority</td>\n",
       "    </tr>\n",
       "    <tr>\n",
       "      <th>10</th>\n",
       "      <td>65</td>\n",
       "      <td>5000</td>\n",
       "      <td>minority</td>\n",
       "    </tr>\n",
       "    <tr>\n",
       "      <th>6</th>\n",
       "      <td>45</td>\n",
       "      <td>4000</td>\n",
       "      <td>minority</td>\n",
       "    </tr>\n",
       "    <tr>\n",
       "      <th>10</th>\n",
       "      <td>65</td>\n",
       "      <td>5000</td>\n",
       "      <td>minority</td>\n",
       "    </tr>\n",
       "    <tr>\n",
       "      <th>10</th>\n",
       "      <td>65</td>\n",
       "      <td>5000</td>\n",
       "      <td>minority</td>\n",
       "    </tr>\n",
       "    <tr>\n",
       "      <th>5</th>\n",
       "      <td>40</td>\n",
       "      <td>3800</td>\n",
       "      <td>minority</td>\n",
       "    </tr>\n",
       "    <tr>\n",
       "      <th>6</th>\n",
       "      <td>45</td>\n",
       "      <td>4000</td>\n",
       "      <td>minority</td>\n",
       "    </tr>\n",
       "  </tbody>\n",
       "</table>\n",
       "</div>"
      ],
      "text/plain": [
       "    age  income     class\n",
       "1    25    2500  majority\n",
       "2    28    2700  majority\n",
       "3    30    3200  majority\n",
       "4    35    3500  majority\n",
       "7    50    4200  majority\n",
       "8    55    4300  majority\n",
       "11   70    5500  majority\n",
       "9    60    4500  minority\n",
       "10   65    5000  minority\n",
       "6    45    4000  minority\n",
       "10   65    5000  minority\n",
       "10   65    5000  minority\n",
       "5    40    3800  minority\n",
       "6    45    4000  minority"
      ]
     },
     "execution_count": 20,
     "metadata": {},
     "output_type": "execute_result"
    }
   ],
   "source": [
    "df_upsampled = pd.concat([df_majority, df_minority_upsampled])\n",
    "df_upsampled "
   ]
  },
  {
   "cell_type": "code",
   "execution_count": 21,
   "id": "379878bd",
   "metadata": {},
   "outputs": [
    {
     "name": "stdout",
     "output_type": "stream",
     "text": [
      "class\n",
      "majority    7\n",
      "minority    7\n",
      "Name: count, dtype: int64\n"
     ]
    }
   ],
   "source": [
    "print(df_upsampled['class'].value_counts())"
   ]
  },
  {
   "cell_type": "code",
   "execution_count": 1,
   "id": "687e2013",
   "metadata": {},
   "outputs": [
    {
     "name": "stdout",
     "output_type": "stream",
     "text": [
      "Requirement already satisfied: imbalanced-learn in c:\\users\\cvr\\anaconda3\\lib\\site-packages (0.13.0)\n",
      "Requirement already satisfied: numpy<3,>=1.24.3 in c:\\users\\cvr\\anaconda3\\lib\\site-packages (from imbalanced-learn) (1.24.3)\n",
      "Requirement already satisfied: scipy<2,>=1.10.1 in c:\\users\\cvr\\anaconda3\\lib\\site-packages (from imbalanced-learn) (1.11.1)\n",
      "Requirement already satisfied: scikit-learn<2,>=1.3.2 in c:\\users\\cvr\\anaconda3\\lib\\site-packages (from imbalanced-learn) (1.6.1)\n",
      "Requirement already satisfied: sklearn-compat<1,>=0.1 in c:\\users\\cvr\\anaconda3\\lib\\site-packages (from imbalanced-learn) (0.1.3)\n",
      "Requirement already satisfied: joblib<2,>=1.1.1 in c:\\users\\cvr\\anaconda3\\lib\\site-packages (from imbalanced-learn) (1.2.0)\n",
      "Requirement already satisfied: threadpoolctl<4,>=2.0.0 in c:\\users\\cvr\\anaconda3\\lib\\site-packages (from imbalanced-learn) (3.5.0)\n",
      "Note: you may need to restart the kernel to use updated packages.\n"
     ]
    }
   ],
   "source": [
    "pip install imbalanced-learn"
   ]
  },
  {
   "cell_type": "code",
   "execution_count": 2,
   "id": "70446988",
   "metadata": {},
   "outputs": [
    {
     "name": "stdout",
     "output_type": "stream",
     "text": [
      "class_label\n",
      "1    7\n",
      "0    7\n",
      "Name: count, dtype: int64\n",
      "    age  income  class_label\n",
      "0    22    2000            1\n",
      "1    25    2500            0\n",
      "2    28    2700            0\n",
      "3    30    3200            0\n",
      "4    35    3500            0\n",
      "5    40    3800            1\n",
      "6    45    4000            1\n",
      "7    50    4200            0\n",
      "8    55    4300            0\n",
      "9    60    4500            1\n",
      "10   65    5000            1\n",
      "11   70    5500            0\n",
      "12   40    3809            1\n",
      "13   43    3946            1\n"
     ]
    }
   ],
   "source": [
    "import pandas as pd\n",
    "from imblearn.over_sampling import SMOTE\n",
    "\n",
    "# Create the DataFrame\n",
    "df = pd.DataFrame({\n",
    "    'age': [22, 25, 28, 30, 35, 40, 45, 50, 55, 60, 65, 70],\n",
    "    'income': [2000, 2500, 2700, 3200, 3500, 3800, 4000, 4200, 4300, 4500, 5000, 5500],\n",
    "    'class': ['minority', 'majority', 'majority', 'majority', 'majority', 'minority', 'minority', 'majority', 'majority', 'minority', 'minority', 'majority']\n",
    "})\n",
    "\n",
    "# Correct the typo in class mapping ('miniority' -> 'minority')\n",
    "df['class_label'] = df['class'].map({'majority': 0, 'minority': 1})\n",
    "\n",
    "# Features and target\n",
    "X = df[['age', 'income']]\n",
    "y = df['class_label']\n",
    "\n",
    "# Apply SMOTE to balance the dataset\n",
    "smote = SMOTE(sampling_strategy='auto', random_state=42, k_neighbors=3)\n",
    "X_resampled, y_resampled = smote.fit_resample(X, y)\n",
    "\n",
    "# Combine the resampled data into a new DataFrame\n",
    "df_balanced = pd.concat([pd.DataFrame(X_resampled, columns=['age', 'income']),pd.DataFrame(y_resampled, columns=['class_label'])], axis=1)\n",
    "\n",
    "# Print the class distribution in the resampled dataset\n",
    "print(df_balanced['class_label'].value_counts())\n",
    "\n",
    "# Print the balanced DataFrame\n",
    "print(df_balanced)\n"
   ]
  },
  {
   "cell_type": "code",
   "execution_count": null,
   "id": "0449ce01",
   "metadata": {},
   "outputs": [],
   "source": []
  }
 ],
 "metadata": {
  "kernelspec": {
   "display_name": "Python 3 (ipykernel)",
   "language": "python",
   "name": "python3"
  },
  "language_info": {
   "codemirror_mode": {
    "name": "ipython",
    "version": 3
   },
   "file_extension": ".py",
   "mimetype": "text/x-python",
   "name": "python",
   "nbconvert_exporter": "python",
   "pygments_lexer": "ipython3",
   "version": "3.11.5"
  }
 },
 "nbformat": 4,
 "nbformat_minor": 5
}
