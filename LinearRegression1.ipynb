{
 "cells": [
  {
   "cell_type": "code",
   "execution_count": 17,
   "id": "e69cea70",
   "metadata": {},
   "outputs": [
    {
     "name": "stdout",
     "output_type": "stream",
     "text": [
      "Slope: 0.4\n",
      "Intercept: 2.4\n"
     ]
    }
   ],
   "source": [
    "import numpy as np\n",
    "def LinearReg(x,y):\n",
    "    x1=np.mean(x)\n",
    "    y1=np.mean(y)\n",
    "    num=0\n",
    "    den=0\n",
    "    n=len(x)\n",
    "    for i in range(n):\n",
    "        num=num+(x[i]-x1)*(y[i]-y1)\n",
    "        den=den+(x[i]-x1)**2\n",
    "    m=num/den\n",
    "    c=y1-m*x1\n",
    "    return m,c\n",
    "x=[1,2,3,4,5]\n",
    "y=[3,4,2,4,5]"
   ]
  },
  {
   "cell_type": "code",
   "execution_count": 18,
   "id": "f29eec4c",
   "metadata": {},
   "outputs": [
    {
     "name": "stdout",
     "output_type": "stream",
     "text": [
      "y=0.4x+2.4\n"
     ]
    }
   ],
   "source": [
    "m,c=LinearReg(x,y)\n",
    "print(f\"y={m}x+{c}\")"
   ]
  },
  {
   "cell_type": "code",
   "execution_count": 21,
   "id": "5e5c95cb",
   "metadata": {},
   "outputs": [
    {
     "data": {
      "text/plain": [
       "[2.8, 3.2, 3.6, 4.0, 4.4]"
      ]
     },
     "execution_count": 21,
     "metadata": {},
     "output_type": "execute_result"
    }
   ],
   "source": [
    "def Predict(x):\n",
    "    yp=[]\n",
    "    for i in range(len(x)):\n",
    "        yp.append(m*x[i]+c)\n",
    "    return yp\n",
    "y_p=Predict(x)\n",
    "y_p\n"
   ]
  },
  {
   "cell_type": "code",
   "execution_count": 22,
   "id": "4b412739",
   "metadata": {},
   "outputs": [
    {
     "data": {
      "text/plain": [
       "1.0"
      ]
     },
     "execution_count": 22,
     "metadata": {},
     "output_type": "execute_result"
    }
   ],
   "source": [
    "y1=np.mean(y)\n",
    "r2=1-((sum(y_p - y1)**2)/(sum(y - y1)**2))\n",
    "r2"
   ]
  },
  {
   "cell_type": "code",
   "execution_count": 27,
   "id": "47481ead",
   "metadata": {},
   "outputs": [
    {
     "name": "stdout",
     "output_type": "stream",
     "text": [
      "3.6\n",
      "0.6923076923076922\n"
     ]
    }
   ],
   "source": [
    "def r2(y,y_p):\n",
    "    ym=np.mean(y)\n",
    "    print(ym)\n",
    "    num=0\n",
    "    den=0\n",
    "    for i in range(len(y)):\n",
    "        num=num+(y_p[i] - ym)**2\n",
    "        den=den+(y[i] - ym)**2\n",
    "        \n",
    "    return num/den \n",
    "print(1-r2(y,y_p))"
   ]
  },
  {
   "cell_type": "code",
   "execution_count": null,
   "id": "371ad9f3",
   "metadata": {},
   "outputs": [],
   "source": []
  }
 ],
 "metadata": {
  "kernelspec": {
   "display_name": "Python 3 (ipykernel)",
   "language": "python",
   "name": "python3"
  },
  "language_info": {
   "codemirror_mode": {
    "name": "ipython",
    "version": 3
   },
   "file_extension": ".py",
   "mimetype": "text/x-python",
   "name": "python",
   "nbconvert_exporter": "python",
   "pygments_lexer": "ipython3",
   "version": "3.11.5"
  }
 },
 "nbformat": 4,
 "nbformat_minor": 5
}
