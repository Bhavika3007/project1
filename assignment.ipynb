{
 "cells": [
  {
   "cell_type": "code",
   "execution_count": 75,
   "id": "f4b8c1ba",
   "metadata": {},
   "outputs": [
    {
     "name": "stdout",
     "output_type": "stream",
     "text": [
      "Enter your password: Bhavi #123\n",
      "Don't use white spaces in the password.\n"
     ]
    }
   ],
   "source": [
    "import string\n",
    "def check(password):\n",
    "    if len(password) < 10:\n",
    "        return \"Weak password: Length is less than 10 characters.\"\n",
    "    if not any(char.isupper() for char in password) or not any(char.islower() for char in password) or not any(char.isdigit() for char in password) or not any(char in string.punctuation for char in password):\n",
    "        return \"Weak password: Must contain uppercase, lowercase, digit, and special character.\"\n",
    "    if any(char.isspace() for char in password):\n",
    "        return \"Don't use white spaces in the password.\"\n",
    "    if password.endswith('.') or password.endswith('@'):\n",
    "        return \"Don't use '.' or '@' at the end of the password.\"\n",
    "    return \"Strong password.\"\n",
    "password = input(\"Enter your password: \")\n",
    "print(check(password))\n",
    "\n",
    "    "
   ]
  },
  {
   "cell_type": "code",
   "execution_count": 35,
   "id": "21a844cd",
   "metadata": {},
   "outputs": [
    {
     "name": "stdout",
     "output_type": "stream",
     "text": [
      "enter a number5\n",
      "the factorial is: 120\n"
     ]
    }
   ],
   "source": [
    "def fact(num):\n",
    "   if num==0 or num==1:\n",
    "    return num\n",
    "   else:\n",
    "    return (num*fact(num-1))\n",
    "num=int(input(\"enter a number\"))\n",
    "print(\"the factorial is:\",fact(num))"
   ]
  },
  {
   "cell_type": "code",
   "execution_count": 81,
   "id": "9522d5f0",
   "metadata": {},
   "outputs": [
    {
     "name": "stdout",
     "output_type": "stream",
     "text": [
      "Enter a number: 7\n",
      "7 is prime\n"
     ]
    }
   ],
   "source": [
    "import math\n",
    "def prime(n):\n",
    "    if n < 2:\n",
    "        return f\"{n} is not prime\"\n",
    "    for i in range(2, int(math.sqrt(n)) + 1):\n",
    "        if n % i == 0:\n",
    "            return f\"{n} is not prime\"\n",
    "    return f\"{n} is prime\"\n",
    "n = int(input(\"Enter a number: \"))\n",
    "print(prime(n))"
   ]
  },
  {
   "cell_type": "code",
   "execution_count": 82,
   "id": "33f13262",
   "metadata": {},
   "outputs": [
    {
     "name": "stdout",
     "output_type": "stream",
     "text": [
      "enter the year2025\n",
      "2025 is not a leap year\n"
     ]
    }
   ],
   "source": [
    "def leap(year):\n",
    "    return(year%4==0 and (year%100!=0 or year%400==0))\n",
    "year=int(input(\"enter the year\"))\n",
    "if leap(year):\n",
    "    print(f\"{year} is a leap year\")\n",
    "else:\n",
    "    print(f\"{year} is not a leap year\")"
   ]
  },
  {
   "cell_type": "code",
   "execution_count": 44,
   "id": "8fba1203",
   "metadata": {},
   "outputs": [
    {
     "name": "stdout",
     "output_type": "stream",
     "text": [
      "[1, 2, 3, 4, [12, 13]]\n",
      "[12, 13]\n",
      "12\n",
      "4\n",
      "[12, 13]\n"
     ]
    }
   ],
   "source": [
    "a=[1,2,3,4]\n",
    "b=[12,13]\n",
    "a.append(b)\n",
    "print(a)\n",
    "c=a[4]\n",
    "print(c)\n",
    "d=a[4][0]\n",
    "print(d)\n",
    "print(a[3])\n",
    "print(a.pop())"
   ]
  },
  {
   "cell_type": "code",
   "execution_count": 48,
   "id": "bceced58",
   "metadata": {},
   "outputs": [
    {
     "name": "stdout",
     "output_type": "stream",
     "text": [
      "[1, 2, 3, 4, 12, 13]\n"
     ]
    }
   ],
   "source": [
    "a=[1,2,3,4]\n",
    "b=[12,13]\n",
    "a.extend(b)\n",
    "print(a)"
   ]
  },
  {
   "cell_type": "code",
   "execution_count": 54,
   "id": "2980202b",
   "metadata": {},
   "outputs": [
    {
     "name": "stdout",
     "output_type": "stream",
     "text": [
      "{12: 'hi', 13: 'hello'}\n",
      "<class 'dict'>\n"
     ]
    }
   ],
   "source": [
    "dict = {12: \"ram\", 13: \"hello\"}\n",
    "dict[12] = \"hi\"\n",
    "print(dict)\n",
    "dicts={}\n",
    "print(type(dicts))"
   ]
  },
  {
   "cell_type": "code",
   "execution_count": 73,
   "id": "78e6d598",
   "metadata": {},
   "outputs": [
    {
     "name": "stdout",
     "output_type": "stream",
     "text": [
      "cart items: {'laptop': 50000, 'headphones': 2000, 'mouse': 35000, 'keyboard': 1500, 'monitor': 8000, 'USB drive': 1000}\n",
      "total price: 74587.5\n"
     ]
    }
   ],
   "source": [
    "def cal_total(cart):\n",
    "    total = sum(cart.values()) \n",
    "    if len(cart) > 5:\n",
    "        total *= 0.9 \n",
    "    if total > 50000:\n",
    "        total *= 0.85 \n",
    "    elif total > 20000:\n",
    "        total *= 0.9 \n",
    "    return total \n",
    "cart = {'laptop': 50000, 'headphones': 2000, 'mouse': 35000, 'keyboard': 1500, 'monitor': 8000, 'USB drive': 1000}\n",
    "print(f\"cart items: {cart}\")\n",
    "print(f\"total price: {cal_total(cart)}\")\n",
    "\n",
    "            \n",
    "           "
   ]
  },
  {
   "cell_type": "code",
   "execution_count": null,
   "id": "b8fe2296",
   "metadata": {},
   "outputs": [],
   "source": []
  }
 ],
 "metadata": {
  "kernelspec": {
   "display_name": "Python 3 (ipykernel)",
   "language": "python",
   "name": "python3"
  },
  "language_info": {
   "codemirror_mode": {
    "name": "ipython",
    "version": 3
   },
   "file_extension": ".py",
   "mimetype": "text/x-python",
   "name": "python",
   "nbconvert_exporter": "python",
   "pygments_lexer": "ipython3",
   "version": "3.11.5"
  }
 },
 "nbformat": 4,
 "nbformat_minor": 5
}
